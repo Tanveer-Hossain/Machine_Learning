{
 "cells": [
  {
   "cell_type": "markdown",
   "id": "4759487e",
   "metadata": {},
   "source": [
    "Assignment:\n",
    "We would like to give a you dataset and see how you approach the problem. This is a machine learning problem. If you do not have machine learning background, you can still write scripts to load the data and share with us your insight about the data and how you would approach the problem. Could you work on it and share with us your results in your 9-10 am presentation?\n",
    "\n",
    "The data are in https://www.dropbox.com/s/ouuxn8nd5qwcs9w/dataset.zip?dl=0\n",
    "\n",
    "It’s a feature table that contains 34553 samples. The “Class” column is the label. All other columns except for the first three columns (ID, Time, Group) are the features of the samples. The objective is to train a supervised model that takes features of new samples to predict the Class.\n",
    "\n",
    "1.Any pre-processing of the data we should do before training a model\n",
    "2.Build a classifier model.\n",
    "3.Show the model performance, both overall and per class. For example, precision and recall. Show them in tables or plots.\n",
    "4.Show any insight you uncover."
   ]
  },
  {
   "cell_type": "code",
   "execution_count": 3,
   "id": "a380bd97",
   "metadata": {},
   "outputs": [],
   "source": [
    "# import sys\n",
    "# import scipy\n",
    "import time\n",
    "import numpy as np\n",
    "\n",
    "import pandas as pd\n",
    "import matplotlib.pyplot as plt\n",
    "from sklearn.model_selection import train_test_split\n",
    "from sklearn.feature_selection import VarianceThreshold\n",
    "\n",
    "from sklearn.linear_model import LogisticRegression\n",
    "\n",
    "from sklearn.decomposition import PCA\n",
    "from sklearn.preprocessing import StandardScaler\n",
    "from sklearn.preprocessing import LabelEncoder\n",
    "from sklearn.metrics import plot_confusion_matrix\n",
    "\n",
    "from sklearn.metrics import accuracy_score, classification_report, confusion_matrix"
   ]
  },
  {
   "cell_type": "markdown",
   "id": "48b663eb",
   "metadata": {},
   "source": [
    "Read Data. View Data"
   ]
  },
  {
   "cell_type": "code",
   "execution_count": 4,
   "id": "a1db48b0",
   "metadata": {
    "scrolled": true
   },
   "outputs": [
    {
     "data": {
      "text/html": [
       "<div>\n",
       "<style scoped>\n",
       "    .dataframe tbody tr th:only-of-type {\n",
       "        vertical-align: middle;\n",
       "    }\n",
       "\n",
       "    .dataframe tbody tr th {\n",
       "        vertical-align: top;\n",
       "    }\n",
       "\n",
       "    .dataframe thead th {\n",
       "        text-align: right;\n",
       "    }\n",
       "</style>\n",
       "<table border=\"1\" class=\"dataframe\">\n",
       "  <thead>\n",
       "    <tr style=\"text-align: right;\">\n",
       "      <th></th>\n",
       "      <th>ID</th>\n",
       "      <th>Time</th>\n",
       "      <th>Group</th>\n",
       "      <th>GR1</th>\n",
       "      <th>GR2</th>\n",
       "      <th>GR3</th>\n",
       "      <th>GR4</th>\n",
       "      <th>GR5</th>\n",
       "      <th>GR6</th>\n",
       "      <th>GR7</th>\n",
       "      <th>...</th>\n",
       "      <th>M6</th>\n",
       "      <th>M7</th>\n",
       "      <th>M8</th>\n",
       "      <th>M9</th>\n",
       "      <th>M10</th>\n",
       "      <th>M11</th>\n",
       "      <th>M12</th>\n",
       "      <th>FA1</th>\n",
       "      <th>FA2</th>\n",
       "      <th>Class</th>\n",
       "    </tr>\n",
       "  </thead>\n",
       "  <tbody>\n",
       "    <tr>\n",
       "      <th>0</th>\n",
       "      <td>0</td>\n",
       "      <td>20210901T052203</td>\n",
       "      <td>1</td>\n",
       "      <td>88.0</td>\n",
       "      <td>4000.0</td>\n",
       "      <td>0.788286</td>\n",
       "      <td>0.858421</td>\n",
       "      <td>0.000000</td>\n",
       "      <td>0.000000</td>\n",
       "      <td>0.808354</td>\n",
       "      <td>...</td>\n",
       "      <td>0.770476</td>\n",
       "      <td>3.0</td>\n",
       "      <td>2036.0</td>\n",
       "      <td>-0.128886</td>\n",
       "      <td>0.687892</td>\n",
       "      <td>0.169358</td>\n",
       "      <td>0.857251</td>\n",
       "      <td>0.045817</td>\n",
       "      <td>2.484042</td>\n",
       "      <td>CL146</td>\n",
       "    </tr>\n",
       "    <tr>\n",
       "      <th>1</th>\n",
       "      <td>1</td>\n",
       "      <td>20210901T052203</td>\n",
       "      <td>1</td>\n",
       "      <td>177.0</td>\n",
       "      <td>4000.0</td>\n",
       "      <td>0.842848</td>\n",
       "      <td>1.676998</td>\n",
       "      <td>2.689012</td>\n",
       "      <td>2.689012</td>\n",
       "      <td>0.817277</td>\n",
       "      <td>...</td>\n",
       "      <td>80.452591</td>\n",
       "      <td>666.0</td>\n",
       "      <td>2552.0</td>\n",
       "      <td>1.149273</td>\n",
       "      <td>14.546570</td>\n",
       "      <td>13.930302</td>\n",
       "      <td>28.476871</td>\n",
       "      <td>0.101117</td>\n",
       "      <td>3.193393</td>\n",
       "      <td>CL6</td>\n",
       "    </tr>\n",
       "    <tr>\n",
       "      <th>2</th>\n",
       "      <td>2</td>\n",
       "      <td>20210901T052203</td>\n",
       "      <td>1</td>\n",
       "      <td>209.0</td>\n",
       "      <td>4000.0</td>\n",
       "      <td>0.986631</td>\n",
       "      <td>1.118038</td>\n",
       "      <td>0.000000</td>\n",
       "      <td>0.000000</td>\n",
       "      <td>0.798937</td>\n",
       "      <td>...</td>\n",
       "      <td>190.957947</td>\n",
       "      <td>103.0</td>\n",
       "      <td>213.0</td>\n",
       "      <td>-5.968551</td>\n",
       "      <td>154.971451</td>\n",
       "      <td>184.861984</td>\n",
       "      <td>339.833435</td>\n",
       "      <td>0.085103</td>\n",
       "      <td>8.746268</td>\n",
       "      <td>CL6</td>\n",
       "    </tr>\n",
       "    <tr>\n",
       "      <th>3</th>\n",
       "      <td>3</td>\n",
       "      <td>20210901T052203</td>\n",
       "      <td>1</td>\n",
       "      <td>471.0</td>\n",
       "      <td>4000.0</td>\n",
       "      <td>0.986631</td>\n",
       "      <td>1.000529</td>\n",
       "      <td>0.000000</td>\n",
       "      <td>0.000000</td>\n",
       "      <td>0.826357</td>\n",
       "      <td>...</td>\n",
       "      <td>0.464587</td>\n",
       "      <td>16.0</td>\n",
       "      <td>2576.0</td>\n",
       "      <td>4.431015</td>\n",
       "      <td>6.842685</td>\n",
       "      <td>5.425236</td>\n",
       "      <td>12.267921</td>\n",
       "      <td>0.137593</td>\n",
       "      <td>9.402219</td>\n",
       "      <td>CL187</td>\n",
       "    </tr>\n",
       "    <tr>\n",
       "      <th>4</th>\n",
       "      <td>4</td>\n",
       "      <td>20210901T052203</td>\n",
       "      <td>1</td>\n",
       "      <td>363.0</td>\n",
       "      <td>4000.0</td>\n",
       "      <td>0.994236</td>\n",
       "      <td>1.011487</td>\n",
       "      <td>0.000000</td>\n",
       "      <td>2.805979</td>\n",
       "      <td>0.797859</td>\n",
       "      <td>...</td>\n",
       "      <td>192.430420</td>\n",
       "      <td>86.0</td>\n",
       "      <td>131.0</td>\n",
       "      <td>18.884167</td>\n",
       "      <td>273.286896</td>\n",
       "      <td>281.943420</td>\n",
       "      <td>555.230286</td>\n",
       "      <td>0.108135</td>\n",
       "      <td>6.391616</td>\n",
       "      <td>CL6</td>\n",
       "    </tr>\n",
       "  </tbody>\n",
       "</table>\n",
       "<p>5 rows × 7676 columns</p>\n",
       "</div>"
      ],
      "text/plain": [
       "   ID             Time Group    GR1     GR2       GR3       GR4       GR5  \\\n",
       "0   0  20210901T052203     1   88.0  4000.0  0.788286  0.858421  0.000000   \n",
       "1   1  20210901T052203     1  177.0  4000.0  0.842848  1.676998  2.689012   \n",
       "2   2  20210901T052203     1  209.0  4000.0  0.986631  1.118038  0.000000   \n",
       "3   3  20210901T052203     1  471.0  4000.0  0.986631  1.000529  0.000000   \n",
       "4   4  20210901T052203     1  363.0  4000.0  0.994236  1.011487  0.000000   \n",
       "\n",
       "        GR6       GR7  ...          M6     M7      M8         M9         M10  \\\n",
       "0  0.000000  0.808354  ...    0.770476    3.0  2036.0  -0.128886    0.687892   \n",
       "1  2.689012  0.817277  ...   80.452591  666.0  2552.0   1.149273   14.546570   \n",
       "2  0.000000  0.798937  ...  190.957947  103.0   213.0  -5.968551  154.971451   \n",
       "3  0.000000  0.826357  ...    0.464587   16.0  2576.0   4.431015    6.842685   \n",
       "4  2.805979  0.797859  ...  192.430420   86.0   131.0  18.884167  273.286896   \n",
       "\n",
       "          M11         M12       FA1       FA2  Class  \n",
       "0    0.169358    0.857251  0.045817  2.484042  CL146  \n",
       "1   13.930302   28.476871  0.101117  3.193393    CL6  \n",
       "2  184.861984  339.833435  0.085103  8.746268    CL6  \n",
       "3    5.425236   12.267921  0.137593  9.402219  CL187  \n",
       "4  281.943420  555.230286  0.108135  6.391616    CL6  \n",
       "\n",
       "[5 rows x 7676 columns]"
      ]
     },
     "metadata": {},
     "output_type": "display_data"
    },
    {
     "data": {
      "text/html": [
       "<div>\n",
       "<style scoped>\n",
       "    .dataframe tbody tr th:only-of-type {\n",
       "        vertical-align: middle;\n",
       "    }\n",
       "\n",
       "    .dataframe tbody tr th {\n",
       "        vertical-align: top;\n",
       "    }\n",
       "\n",
       "    .dataframe thead th {\n",
       "        text-align: right;\n",
       "    }\n",
       "</style>\n",
       "<table border=\"1\" class=\"dataframe\">\n",
       "  <thead>\n",
       "    <tr style=\"text-align: right;\">\n",
       "      <th></th>\n",
       "      <th>ID</th>\n",
       "      <th>Time</th>\n",
       "      <th>Group</th>\n",
       "      <th>GR1</th>\n",
       "      <th>GR2</th>\n",
       "      <th>GR3</th>\n",
       "      <th>GR4</th>\n",
       "      <th>GR5</th>\n",
       "      <th>GR6</th>\n",
       "      <th>GR7</th>\n",
       "      <th>...</th>\n",
       "      <th>M6</th>\n",
       "      <th>M7</th>\n",
       "      <th>M8</th>\n",
       "      <th>M9</th>\n",
       "      <th>M10</th>\n",
       "      <th>M11</th>\n",
       "      <th>M12</th>\n",
       "      <th>FA1</th>\n",
       "      <th>FA2</th>\n",
       "      <th>Class</th>\n",
       "    </tr>\n",
       "  </thead>\n",
       "  <tbody>\n",
       "    <tr>\n",
       "      <th>34548</th>\n",
       "      <td>34548</td>\n",
       "      <td>20211004T071217</td>\n",
       "      <td>1</td>\n",
       "      <td>648.0</td>\n",
       "      <td>4000.0</td>\n",
       "      <td>2.805979</td>\n",
       "      <td>3.251773</td>\n",
       "      <td>4.142682</td>\n",
       "      <td>4.142682</td>\n",
       "      <td>0.774836</td>\n",
       "      <td>...</td>\n",
       "      <td>1010.809998</td>\n",
       "      <td>23.0</td>\n",
       "      <td>58.0</td>\n",
       "      <td>32.712311</td>\n",
       "      <td>207.385666</td>\n",
       "      <td>107.307846</td>\n",
       "      <td>314.693512</td>\n",
       "      <td>0.926241</td>\n",
       "      <td>1.029574</td>\n",
       "      <td>CL6</td>\n",
       "    </tr>\n",
       "    <tr>\n",
       "      <th>34549</th>\n",
       "      <td>34549</td>\n",
       "      <td>20211004T071217</td>\n",
       "      <td>1</td>\n",
       "      <td>294.0</td>\n",
       "      <td>4000.0</td>\n",
       "      <td>2.184607</td>\n",
       "      <td>2.785324</td>\n",
       "      <td>2.577457</td>\n",
       "      <td>3.968254</td>\n",
       "      <td>0.820650</td>\n",
       "      <td>...</td>\n",
       "      <td>924.410522</td>\n",
       "      <td>39.0</td>\n",
       "      <td>67.0</td>\n",
       "      <td>12.725172</td>\n",
       "      <td>532.424255</td>\n",
       "      <td>536.369995</td>\n",
       "      <td>1068.794189</td>\n",
       "      <td>0.396886</td>\n",
       "      <td>1.338428</td>\n",
       "      <td>CL6</td>\n",
       "    </tr>\n",
       "    <tr>\n",
       "      <th>34550</th>\n",
       "      <td>34550</td>\n",
       "      <td>20211004T071217</td>\n",
       "      <td>1</td>\n",
       "      <td>499.0</td>\n",
       "      <td>4000.0</td>\n",
       "      <td>1.482132</td>\n",
       "      <td>1.759822</td>\n",
       "      <td>2.474641</td>\n",
       "      <td>3.826336</td>\n",
       "      <td>0.757360</td>\n",
       "      <td>...</td>\n",
       "      <td>708.942566</td>\n",
       "      <td>364.0</td>\n",
       "      <td>698.0</td>\n",
       "      <td>-1.737106</td>\n",
       "      <td>45.034176</td>\n",
       "      <td>50.711529</td>\n",
       "      <td>95.745705</td>\n",
       "      <td>0.618247</td>\n",
       "      <td>2.703113</td>\n",
       "      <td>CL6</td>\n",
       "    </tr>\n",
       "    <tr>\n",
       "      <th>34551</th>\n",
       "      <td>34551</td>\n",
       "      <td>20211004T071217</td>\n",
       "      <td>1</td>\n",
       "      <td>398.0</td>\n",
       "      <td>4000.0</td>\n",
       "      <td>2.990628</td>\n",
       "      <td>3.041985</td>\n",
       "      <td>3.810092</td>\n",
       "      <td>3.810092</td>\n",
       "      <td>0.671338</td>\n",
       "      <td>...</td>\n",
       "      <td>272.842133</td>\n",
       "      <td>47.0</td>\n",
       "      <td>68.0</td>\n",
       "      <td>-88.921623</td>\n",
       "      <td>474.704529</td>\n",
       "      <td>406.408264</td>\n",
       "      <td>881.112793</td>\n",
       "      <td>0.579295</td>\n",
       "      <td>1.217331</td>\n",
       "      <td>CL6</td>\n",
       "    </tr>\n",
       "    <tr>\n",
       "      <th>34552</th>\n",
       "      <td>34552</td>\n",
       "      <td>20211004T071217</td>\n",
       "      <td>1</td>\n",
       "      <td>119.0</td>\n",
       "      <td>4000.0</td>\n",
       "      <td>1.662435</td>\n",
       "      <td>2.029150</td>\n",
       "      <td>2.577457</td>\n",
       "      <td>2.577457</td>\n",
       "      <td>0.771876</td>\n",
       "      <td>...</td>\n",
       "      <td>174.554031</td>\n",
       "      <td>56.0</td>\n",
       "      <td>89.0</td>\n",
       "      <td>-59.562809</td>\n",
       "      <td>399.750183</td>\n",
       "      <td>483.666595</td>\n",
       "      <td>883.416809</td>\n",
       "      <td>0.221086</td>\n",
       "      <td>1.987704</td>\n",
       "      <td>CL6</td>\n",
       "    </tr>\n",
       "  </tbody>\n",
       "</table>\n",
       "<p>5 rows × 7676 columns</p>\n",
       "</div>"
      ],
      "text/plain": [
       "          ID             Time Group    GR1     GR2       GR3       GR4  \\\n",
       "34548  34548  20211004T071217     1  648.0  4000.0  2.805979  3.251773   \n",
       "34549  34549  20211004T071217     1  294.0  4000.0  2.184607  2.785324   \n",
       "34550  34550  20211004T071217     1  499.0  4000.0  1.482132  1.759822   \n",
       "34551  34551  20211004T071217     1  398.0  4000.0  2.990628  3.041985   \n",
       "34552  34552  20211004T071217     1  119.0  4000.0  1.662435  2.029150   \n",
       "\n",
       "            GR5       GR6       GR7  ...           M6     M7     M8  \\\n",
       "34548  4.142682  4.142682  0.774836  ...  1010.809998   23.0   58.0   \n",
       "34549  2.577457  3.968254  0.820650  ...   924.410522   39.0   67.0   \n",
       "34550  2.474641  3.826336  0.757360  ...   708.942566  364.0  698.0   \n",
       "34551  3.810092  3.810092  0.671338  ...   272.842133   47.0   68.0   \n",
       "34552  2.577457  2.577457  0.771876  ...   174.554031   56.0   89.0   \n",
       "\n",
       "              M9         M10         M11          M12       FA1       FA2  \\\n",
       "34548  32.712311  207.385666  107.307846   314.693512  0.926241  1.029574   \n",
       "34549  12.725172  532.424255  536.369995  1068.794189  0.396886  1.338428   \n",
       "34550  -1.737106   45.034176   50.711529    95.745705  0.618247  2.703113   \n",
       "34551 -88.921623  474.704529  406.408264   881.112793  0.579295  1.217331   \n",
       "34552 -59.562809  399.750183  483.666595   883.416809  0.221086  1.987704   \n",
       "\n",
       "       Class  \n",
       "34548    CL6  \n",
       "34549    CL6  \n",
       "34550    CL6  \n",
       "34551    CL6  \n",
       "34552    CL6  \n",
       "\n",
       "[5 rows x 7676 columns]"
      ]
     },
     "metadata": {},
     "output_type": "display_data"
    },
    {
     "name": "stdout",
     "output_type": "stream",
     "text": [
      "(34553, 7676)\n"
     ]
    }
   ],
   "source": [
    "#Reading the data\n",
    "df = pd.read_pickle(\"dataset.pkl\")\n",
    "#View the data\n",
    "display(df.head())\n",
    "display(df.tail())\n",
    "print(df.shape)"
   ]
  },
  {
   "cell_type": "code",
   "execution_count": 5,
   "id": "e3adf1ba",
   "metadata": {},
   "outputs": [
    {
     "data": {
      "image/png": "[encoded data removed]",
      "text/plain": [
       "<Figure size 432x288 with 1 Axes>"
      ]
     },
     "metadata": {
      "needs_background": "light"
     },
     "output_type": "display_data"
    },
    {
     "name": "stdout",
     "output_type": "stream",
     "text": [
      "<class 'pandas.core.frame.DataFrame'>\n",
      "RangeIndex: 34553 entries, 0 to 34552\n",
      "Columns: 7676 entries, ID to Class\n",
      "dtypes: category(2), float64(7672), int64(1), object(1)\n",
      "memory usage: 2.0+ GB\n"
     ]
    }
   ],
   "source": [
    "#Bar Chart for Class Column\n",
    "df['Class'].value_counts().plot(kind='bar')\n",
    "plt.ylabel(\"no of observations\")\n",
    "plt.xlabel(\"target variable : Class\")\n",
    "plt.show()\n",
    "df.info()"
   ]
  },
  {
   "cell_type": "code",
   "execution_count": 6,
   "id": "35a74b3c",
   "metadata": {},
   "outputs": [
    {
     "data": {
      "text/plain": [
       "CL6       21844\n",
       "CL146      4120\n",
       "CL376      1842\n",
       "CL2         903\n",
       "CL29        646\n",
       "CL168       593\n",
       "CL8612      492\n",
       "CL187       483\n",
       "CL208       311\n",
       "CL200       309\n",
       "CL12        281\n",
       "CL1         275\n",
       "CL36        262\n",
       "CL244       243\n",
       "CL4         219\n",
       "CL9         217\n",
       "CL7         212\n",
       "CL37        209\n",
       "CL327       205\n",
       "CL95        186\n",
       "CL5         181\n",
       "CL94        157\n",
       "CL153       125\n",
       "CL112        66\n",
       "CL266        51\n",
       "CL147        45\n",
       "CL167        41\n",
       "CL233        23\n",
       "CL8          11\n",
       "CL92          1\n",
       "Name: Class, dtype: int64"
      ]
     },
     "execution_count": 6,
     "metadata": {},
     "output_type": "execute_result"
    }
   ],
   "source": [
    "#Table For Class Column\n",
    "df['Class'].value_counts().sort_values(ascending=False)\n",
    "\n"
   ]
  },
  {
   "cell_type": "code",
   "execution_count": 7,
   "id": "2754ea32",
   "metadata": {},
   "outputs": [
    {
     "name": "stdout",
     "output_type": "stream",
     "text": [
      "<bound method Categorical.value_counts of ['CL146', 'CL6', 'CL187', 'CL36', 'CL376', ..., 'CL147', 'CL266', 'CL94', 'CL7', 'CL92']\n",
      "Length: 30\n",
      "Categories (30, object): ['CL146', 'CL6', 'CL187', 'CL36', ..., 'CL266', 'CL94', 'CL7', 'CL92']>\n",
      "Total NaN Value 0\n"
     ]
    }
   ],
   "source": [
    "#Total Number of Class\n",
    "print(df['Class'].unique().value_counts)\n",
    "print('Total NaN Value',df['Class'].isna().sum())"
   ]
  },
  {
   "cell_type": "markdown",
   "id": "cb24128d",
   "metadata": {},
   "source": [
    "Preprocessing of Data"
   ]
  },
  {
   "cell_type": "code",
   "execution_count": 8,
   "id": "42df74d6",
   "metadata": {},
   "outputs": [
    {
     "name": "stdout",
     "output_type": "stream",
     "text": [
      "(8000, 7676)\n"
     ]
    }
   ],
   "source": [
    "#Making the working data_set\n",
    "class_0 = df[df['Class'] == 'CL6'].sample(4000)\n",
    "\n",
    "class_1 = df[df['Class'] == 'CL146'].sample(4000)\n",
    "\n",
    "df = pd.concat([class_0, class_1], axis=0)\n",
    "print(df.shape)"
   ]
  },
  {
   "cell_type": "code",
   "execution_count": 9,
   "id": "4ed27886",
   "metadata": {},
   "outputs": [
    {
     "name": "stdout",
     "output_type": "stream",
     "text": [
      "(8000, 7673)\n"
     ]
    }
   ],
   "source": [
    "# removing ID columns\n",
    "id_cols = [\"ID\", \"Time\", \"Group\"]\n",
    "df = df.drop(id_cols, axis=1)\n",
    "\n",
    "print(df.shape)"
   ]
  },
  {
   "cell_type": "code",
   "execution_count": 10,
   "id": "da917b04",
   "metadata": {},
   "outputs": [
    {
     "name": "stdout",
     "output_type": "stream",
     "text": [
      "Total NaN Before 2289839\n",
      "Total NaN After 1713839\n"
     ]
    }
   ],
   "source": [
    "#Dropping Rows/ Cloumn with any NaN\n",
    "print('Total NaN Before',df.isna().sum().sum())\n",
    "df = df.dropna(axis=0,how='all').dropna(axis=1,how='all')\n",
    "print('Total NaN After',df.isna().sum().sum())"
   ]
  },
  {
   "cell_type": "code",
   "execution_count": 11,
   "id": "cea5d538",
   "metadata": {},
   "outputs": [],
   "source": [
    "#Removig all rows that have at least one NaN\n",
    "#df=df.dropna(axis=0,how='any')  \n",
    "\n",
    "# Results to output with very few rows. Can't be done"
   ]
  },
  {
   "cell_type": "code",
   "execution_count": 12,
   "id": "880f2834",
   "metadata": {},
   "outputs": [
    {
     "name": "stdout",
     "output_type": "stream",
     "text": [
      "(8000, 7601)\n",
      "Total NaN After 0\n"
     ]
    }
   ],
   "source": [
    "#Filling the NaN Cells with Values\n",
    "df = df.bfill().ffill()\n",
    "print(df.shape)\n",
    "print('Total NaN After',df.isna().sum().sum())"
   ]
  },
  {
   "cell_type": "code",
   "execution_count": 13,
   "id": "706a0195",
   "metadata": {},
   "outputs": [],
   "source": [
    "#Giving a Label to the Class Column. Encoding\n",
    "LE = LabelEncoder()\n",
    "df[\"Class\"] = LE.fit_transform(df[\"Class\"])"
   ]
  },
  {
   "cell_type": "code",
   "execution_count": 14,
   "id": "96faf9ae",
   "metadata": {},
   "outputs": [
    {
     "data": {
      "text/plain": [
       "1    4000\n",
       "0    4000\n",
       "Name: Class, dtype: int64"
      ]
     },
     "execution_count": 14,
     "metadata": {},
     "output_type": "execute_result"
    }
   ],
   "source": [
    "df[\"Class\"].value_counts()"
   ]
  },
  {
   "cell_type": "code",
   "execution_count": 15,
   "id": "cf6e31a8",
   "metadata": {},
   "outputs": [],
   "source": [
    "#Dividing the data into Feature and Target\n",
    "\n",
    "X = df.drop(\"Class\", axis=1)\n",
    "y = df[[\"Class\"]]"
   ]
  },
  {
   "cell_type": "code",
   "execution_count": 16,
   "id": "f6288391",
   "metadata": {},
   "outputs": [],
   "source": [
    "# Function for Removing Constant and Quasi-Constant Columns\n",
    "def variance_threshold_selector(data, threshold):\n",
    "\n",
    "    selector = VarianceThreshold(threshold)\n",
    "    selector.fit(data)\n",
    "    \n",
    "    return data[data.columns[selector.get_support(indices=True)]]"
   ]
  },
  {
   "cell_type": "code",
   "execution_count": 17,
   "id": "77d437a9",
   "metadata": {},
   "outputs": [
    {
     "name": "stdout",
     "output_type": "stream",
     "text": [
      "(8000, 5412)\n"
     ]
    }
   ],
   "source": [
    "#Removing Constant & Quasi-Constant Column\n",
    "X = variance_threshold_selector(X, 0.05)\n",
    "print(X.shape)"
   ]
  },
  {
   "cell_type": "code",
   "execution_count": 18,
   "id": "90094d11",
   "metadata": {},
   "outputs": [
    {
     "name": "stdout",
     "output_type": "stream",
     "text": [
      "(8000, 5412)\n"
     ]
    }
   ],
   "source": [
    "#Standardization\n",
    "scaler = StandardScaler()\n",
    "X = scaler.fit_transform(X)\n",
    "\n",
    "print(X.shape)"
   ]
  },
  {
   "cell_type": "markdown",
   "id": "36fd29d4",
   "metadata": {},
   "source": [
    "Dimension Reduction"
   ]
  },
  {
   "cell_type": "code",
   "execution_count": 19,
   "id": "f9ab5d42",
   "metadata": {},
   "outputs": [
    {
     "name": "stdout",
     "output_type": "stream",
     "text": [
      "(8000, 281)\n"
     ]
    }
   ],
   "source": [
    "#Principal Component Analysis (PCA) \n",
    "pca = PCA(n_components=0.90)\n",
    "X = pd.DataFrame(pca.fit_transform(X))\n",
    "\n",
    "print(X.shape)"
   ]
  },
  {
   "cell_type": "markdown",
   "id": "cb1763bc",
   "metadata": {},
   "source": [
    "Fitting in Model"
   ]
  },
  {
   "cell_type": "code",
   "execution_count": 20,
   "id": "136163db",
   "metadata": {},
   "outputs": [
    {
     "name": "stdout",
     "output_type": "stream",
     "text": [
      "x_train row*column (6400, 281)\n",
      "y_train row*column (6400, 1)\n",
      "x_test row*column (1600, 281)\n",
      "y_test row*column (1600, 1)\n"
     ]
    }
   ],
   "source": [
    "#Devide into train and test data\n",
    "x_train, x_test, y_train, y_test = train_test_split(X, \n",
    "                                                    y, \n",
    "                                                    test_size=0.2, \n",
    "                                                    random_state=42,\n",
    "                                                    stratify=y)\n",
    "\n",
    "print('x_train row*column',x_train.shape)\n",
    "print('y_train row*column',y_train.shape)\n",
    "print('x_test row*column',x_test.shape)\n",
    "print('y_test row*column',y_test.shape)"
   ]
  },
  {
   "cell_type": "code",
   "execution_count": 21,
   "id": "05a50554",
   "metadata": {},
   "outputs": [
    {
     "name": "stderr",
     "output_type": "stream",
     "text": [
      "C:\\Users\\shaik\\AppData\\Local\\Packages\\PythonSoftwareFoundation.Python.3.8_qbz5n2kfra8p0\\LocalCache\\local-packages\\Python38\\site-packages\\sklearn\\utils\\validation.py:1111: DataConversionWarning: A column-vector y was passed when a 1d array was expected. Please change the shape of y to (n_samples, ), for example using ravel().\n",
      "  y = column_or_1d(y, warn=True)\n"
     ]
    }
   ],
   "source": [
    "#Fitting Logistic Regression\n",
    "model = LogisticRegression(random_state=42)\n",
    "grid_result = model.fit(x_train, y_train)"
   ]
  },
  {
   "cell_type": "markdown",
   "id": "8e525dd5",
   "metadata": {},
   "source": [
    "Performence Test "
   ]
  },
  {
   "cell_type": "code",
   "execution_count": 22,
   "id": "afa4a426",
   "metadata": {},
   "outputs": [],
   "source": [
    "y_pred = grid_result.predict(x_test)"
   ]
  },
  {
   "cell_type": "code",
   "execution_count": 23,
   "id": "95bf19dc",
   "metadata": {},
   "outputs": [
    {
     "name": "stdout",
     "output_type": "stream",
     "text": [
      "confusion_matrix: \n",
      "    0    1\n",
      " 0 [800   0] \n",
      " 1 [  0 800]\n"
     ]
    },
    {
     "name": "stderr",
     "output_type": "stream",
     "text": [
      "C:\\Users\\shaik\\AppData\\Local\\Packages\\PythonSoftwareFoundation.Python.3.8_qbz5n2kfra8p0\\LocalCache\\local-packages\\Python38\\site-packages\\sklearn\\utils\\deprecation.py:87: FutureWarning: Function plot_confusion_matrix is deprecated; Function `plot_confusion_matrix` is deprecated in 1.0 and will be removed in 1.2. Use one of the class methods: ConfusionMatrixDisplay.from_predictions or ConfusionMatrixDisplay.from_estimator.\n",
      "  warnings.warn(msg, category=FutureWarning)\n"
     ]
    },
    {
     "data": {
      "image/png": "[encoded data removed]",
      "text/plain": [
       "<Figure size 432x288 with 2 Axes>"
      ]
     },
     "metadata": {
      "needs_background": "light"
     },
     "output_type": "display_data"
    },
    {
     "name": "stdout",
     "output_type": "stream",
     "text": [
      "True Negatives =  800\n",
      "False Negatives =  0\n",
      "False Positives =  0\n",
      "True Positives =  800\n"
     ]
    }
   ],
   "source": [
    "#confusion_matrix\n",
    "confusion_matrix_ = confusion_matrix(y_test, y_pred)\n",
    "\n",
    "print('confusion_matrix: \\n    0    1\\n 0', confusion_matrix_[0,:],'\\n 1',confusion_matrix_[1,:])\n",
    "plot_confusion_matrix( model,x_test, y_test) \n",
    "plt.show()\n",
    " \n",
    "\n",
    "\n",
    "TN = confusion_matrix_[0,0]\n",
    "print(\"True Negatives = \", TN)\n",
    "\n",
    "FN = confusion_matrix_[1,0]\n",
    "print(\"False Negatives = \", FN)\n",
    "\n",
    "FP = confusion_matrix_[0,1]\n",
    "print(\"False Positives = \", FP)\n",
    "\n",
    "TP = confusion_matrix_[1,1]\n",
    "print(\"True Positives = \", TP)\n",
    "\n"
   ]
  },
  {
   "cell_type": "code",
   "execution_count": 24,
   "id": "aa7465df",
   "metadata": {},
   "outputs": [
    {
     "data": {
      "text/html": [
       "<div>\n",
       "<style scoped>\n",
       "    .dataframe tbody tr th:only-of-type {\n",
       "        vertical-align: middle;\n",
       "    }\n",
       "\n",
       "    .dataframe tbody tr th {\n",
       "        vertical-align: top;\n",
       "    }\n",
       "\n",
       "    .dataframe thead th {\n",
       "        text-align: right;\n",
       "    }\n",
       "</style>\n",
       "<table border=\"1\" class=\"dataframe\">\n",
       "  <thead>\n",
       "    <tr style=\"text-align: right;\">\n",
       "      <th></th>\n",
       "      <th>precision</th>\n",
       "      <th>recall</th>\n",
       "      <th>f1-score</th>\n",
       "      <th>support</th>\n",
       "    </tr>\n",
       "  </thead>\n",
       "  <tbody>\n",
       "    <tr>\n",
       "      <th>0</th>\n",
       "      <td>1.0</td>\n",
       "      <td>1.0</td>\n",
       "      <td>1.0</td>\n",
       "      <td>800.0</td>\n",
       "    </tr>\n",
       "    <tr>\n",
       "      <th>1</th>\n",
       "      <td>1.0</td>\n",
       "      <td>1.0</td>\n",
       "      <td>1.0</td>\n",
       "      <td>800.0</td>\n",
       "    </tr>\n",
       "  </tbody>\n",
       "</table>\n",
       "</div>"
      ],
      "text/plain": [
       "   precision  recall  f1-score  support\n",
       "0        1.0     1.0       1.0    800.0\n",
       "1        1.0     1.0       1.0    800.0"
      ]
     },
     "metadata": {},
     "output_type": "display_data"
    }
   ],
   "source": [
    "#See some report\n",
    "class_report = classification_report(y_test, y_pred, output_dict=True)\n",
    "class_report = pd.DataFrame(class_report).T\n",
    "display(class_report.iloc[0:2,:])"
   ]
  },
  {
   "cell_type": "markdown",
   "id": "0ea9fe2e",
   "metadata": {},
   "source": []
  }
 ],
 "metadata": {
  "kernelspec": {
   "display_name": "Python 3 (ipykernel)",
   "language": "python",
   "name": "python3"
  },
  "language_info": {
   "codemirror_mode": {
    "name": "ipython",
    "version": 3
   },
   "file_extension": ".py",
   "mimetype": "text/x-python",
   "name": "python",
   "nbconvert_exporter": "python",
   "pygments_lexer": "ipython3",
   "version": "3.8.10"
  }
 },
 "nbformat": 4,
 "nbformat_minor": 5
}
